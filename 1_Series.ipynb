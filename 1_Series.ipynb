{
 "cells": [
  {
   "cell_type": "markdown",
   "id": "fb4e89bc",
   "metadata": {},
   "source": [
    "# 🐼 Pandas Tutorial: Series\n",
    "\n",
    "Welcome to the Pandas tutorial series! In this notebook, we'll explore one of the most fundamental data structures in Pandas: the **Series**.\n",
    "\n",
    "A **Series** is a one-dimensional labeled array that can hold any data type (integers, strings, floats, Python objects, etc.).\n",
    "\n",
    "Think of a Series as a single column in an Excel spreadsheet — it has values and a corresponding index.\n"
   ]
  },
  {
   "cell_type": "markdown",
   "id": "d667f97d",
   "metadata": {},
   "source": [
    "## 📌 Creating a Series\n",
    "There are multiple ways to create a Pandas Series. Let's start by importing the required libraries:"
   ]
  },
  {
   "cell_type": "code",
   "execution_count": null,
   "id": "2df09a94",
   "metadata": {},
   "outputs": [],
   "source": [
    "# Import pandas and numpy libraries\n",
    "import pandas as pd\n",
    "import numpy as np"
   ]
  },
  {
   "cell_type": "markdown",
   "id": "6f943f11",
   "metadata": {},
   "source": [
    "### 🔹 Creating Series from a List\n",
    "You can create a Series from a Python list. Pandas will automatically assign numeric index values starting from 0."
   ]
  },
  {
   "cell_type": "code",
   "execution_count": null,
   "id": "3784fd89",
   "metadata": {},
   "outputs": [
    {
     "name": "stdout",
     "output_type": "stream",
     "text": [
      "0    10\n",
      "1    20\n",
      "2    30\n",
      "3    40\n",
      "dtype: int64\n"
     ]
    }
   ],
   "source": [
    "# Create a Series from a list\n",
    "data = [10, 20, 30, 40]\n",
    "series_from_list = pd.Series(data)\n",
    "print(series_from_list)"
   ]
  },
  {
   "cell_type": "markdown",
   "id": "ef266ae3",
   "metadata": {},
   "source": [
    "### 🔹 Creating Series with Custom Index\n",
    "You can specify your own index labels instead of using default integers."
   ]
  },
  {
   "cell_type": "code",
   "execution_count": null,
   "id": "109a654e",
   "metadata": {},
   "outputs": [
    {
     "name": "stdout",
     "output_type": "stream",
     "text": [
      "a    100\n",
      "b    200\n",
      "c    300\n",
      "dtype: int64\n"
     ]
    }
   ],
   "source": [
    "# Create a Series with custom index labels\n",
    "series_custom_index = pd.Series([100, 200, 300], index=['a', 'b', 'c'])\n",
    "print(series_custom_index)"
   ]
  },
  {
   "cell_type": "markdown",
   "id": "b3a0edfd",
   "metadata": {},
   "source": [
    "### 🔹 Creating Series from a Dictionary\n",
    "You can also create a Series using a Python dictionary. The dictionary keys become the index."
   ]
  },
  {
   "cell_type": "code",
   "execution_count": null,
   "id": "fdf45572",
   "metadata": {},
   "outputs": [
    {
     "name": "stdout",
     "output_type": "stream",
     "text": [
      "Math       90\n",
      "Science    85\n",
      "English    88\n",
      "dtype: int64\n"
     ]
    }
   ],
   "source": [
    "# Create a Series from a dictionary\n",
    "marks = {'Math': 90, 'Science': 85, 'English': 88}\n",
    "series_from_dict = pd.Series(marks)\n",
    "print(series_from_dict)"
   ]
  },
  {
   "cell_type": "markdown",
   "id": "3ad1d057",
   "metadata": {},
   "source": [
    "## 📝 Try It Yourself!\n",
    "- Create a Series from a tuple.\n",
    "- Create a Series with a custom index and access its `.values` and `.index` attributes.\n",
    "- Create a Series using a dictionary and access a value using its key.\n",
    "\n",
    "## 🚀 Next Steps\n",
    "- Learn this file **2_DataFrames.ipynb**"
   ]
  }
 ],
 "metadata": {
  "kernelspec": {
   "display_name": "Python 3",
   "language": "python",
   "name": "python3"
  },
  "language_info": {
   "codemirror_mode": {
    "name": "ipython",
    "version": 3
   },
   "file_extension": ".py",
   "mimetype": "text/x-python",
   "name": "python",
   "nbconvert_exporter": "python",
   "pygments_lexer": "ipython3",
   "version": "3.13.1"
  }
 },
 "nbformat": 4,
 "nbformat_minor": 5
}
