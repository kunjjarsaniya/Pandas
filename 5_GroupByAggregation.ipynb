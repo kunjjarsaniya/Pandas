{
 "cells": [
  {
   "cell_type": "code",
   "execution_count": 1,
   "id": "6f60df6a-c402-4152-8087-1354eb0181aa",
   "metadata": {},
   "outputs": [],
   "source": [
    "# Import necessary libraries\n",
    "import numpy as np\n",
    "import pandas as pd"
   ]
  },
  {
   "cell_type": "markdown",
   "id": "1e4ac63f",
   "metadata": {},
   "source": [
    "## 📊 GroupBy in Pandas\n",
    "\n",
    "`groupby()` is a powerful Pandas method used to group data and perform aggregate operations like sum, mean, count, etc. It's extremely useful for summarizing and analyzing datasets.\n",
    "\n",
    "**In this section, you will learn:**\n",
    "- How to group data using one or more columns\n",
    "- How to apply aggregation functions on grouped data\n",
    "- How to interpret the results"
   ]
  },
  {
   "cell_type": "code",
   "execution_count": 2,
   "id": "4351129a",
   "metadata": {},
   "outputs": [],
   "source": [
    "# Create a simple dataset with 'Category', 'Store', and 'Sales'\n",
    "data = {\n",
    "    'Category': ['A', 'B', 'A', 'B', 'A', 'B', 'A', 'B'],\n",
    "    'Store': ['X', 'X', 'Y', 'Y', 'X', 'Y', 'Y', 'X'],\n",
    "    'Sales': [100, 200, 150, 120, 130, 160, 170, 190]\n",
    "}\n",
    "\n",
    "# Convert to DataFrame\n",
    "df = pd.DataFrame(data)"
   ]
  },
  {
   "cell_type": "code",
   "execution_count": 3,
   "id": "bbb2ebf3",
   "metadata": {},
   "outputs": [
    {
     "name": "stdout",
     "output_type": "stream",
     "text": [
      "  Category Store  Sales\n",
      "0        A     X    100\n",
      "1        B     X    200\n",
      "2        A     Y    150\n",
      "3        B     Y    120\n",
      "4        A     X    130\n",
      "5        B     Y    160\n",
      "6        A     Y    170\n",
      "7        B     X    190\n"
     ]
    }
   ],
   "source": [
    "# Preview the dataset\n",
    "print(df)"
   ]
  },
  {
   "cell_type": "code",
   "execution_count": 4,
   "id": "e9667665",
   "metadata": {},
   "outputs": [
    {
     "name": "stdout",
     "output_type": "stream",
     "text": [
      "Category\n",
      "A    550\n",
      "B    670\n",
      "Name: Sales, dtype: int64\n"
     ]
    }
   ],
   "source": [
    "# Group by 'Category' and calculate the total sales in each category\n",
    "category_sales = df.groupby('Category')['Sales'].sum()\n",
    "print(category_sales)"
   ]
  },
  {
   "cell_type": "code",
   "execution_count": 5,
   "id": "556b3646",
   "metadata": {},
   "outputs": [
    {
     "name": "stdout",
     "output_type": "stream",
     "text": [
      "Store\n",
      "X    620\n",
      "Y    600\n",
      "Name: Sales, dtype: int64\n"
     ]
    }
   ],
   "source": [
    "# Group by 'Store' and calculate the total sales per store\n",
    "store_sales = df.groupby('Store')['Sales'].sum()\n",
    "print(store_sales)"
   ]
  },
  {
   "cell_type": "code",
   "execution_count": 6,
   "id": "9fb45c9c",
   "metadata": {},
   "outputs": [
    {
     "name": "stdout",
     "output_type": "stream",
     "text": [
      "Category  Store\n",
      "A         X        230\n",
      "          Y        320\n",
      "B         X        390\n",
      "          Y        280\n",
      "Name: Sales, dtype: int64\n"
     ]
    }
   ],
   "source": [
    "# Group by both 'Category' and 'Store', and calculate the total sales\n",
    "category_store_sales = df.groupby(['Category', 'Store'])['Sales'].sum()\n",
    "print(category_store_sales)"
   ]
  },
  {
   "cell_type": "markdown",
   "id": "2cd50645",
   "metadata": {},
   "source": [
    "## 📈 Aggregation\n",
    "\n",
    "Once grouped, we can use aggregation functions to summarize the data.\n",
    "\n",
    "**Common aggregation functions:**\n",
    "- `sum()`: Total\n",
    "- `mean()`: Average\n",
    "- `min()`, `max()`: Minimum and maximum values\n",
    "- `count()`: Number of entries\n",
    "- `std()`: Standard deviation"
   ]
  },
  {
   "cell_type": "code",
   "execution_count": 7,
   "id": "06279c05",
   "metadata": {},
   "outputs": [
    {
     "name": "stdout",
     "output_type": "stream",
     "text": [
      "Average Sales: 152.50\n"
     ]
    }
   ],
   "source": [
    "# Calculate the mean (average) of all sales\n",
    "average_sales = df['Sales'].mean()\n",
    "print(f\"Average Sales: {average_sales:.2f}\")"
   ]
  },
  {
   "cell_type": "code",
   "execution_count": 8,
   "id": "6bc7487f",
   "metadata": {},
   "outputs": [
    {
     "name": "stdout",
     "output_type": "stream",
     "text": [
      "sum      1220.000000\n",
      "mean      152.500000\n",
      "min       100.000000\n",
      "max       200.000000\n",
      "count       8.000000\n",
      "std        34.537764\n",
      "Name: Sales, dtype: float64\n"
     ]
    }
   ],
   "source": [
    "# Apply multiple aggregation functions on the 'Sales' column\n",
    "aggregated = df['Sales'].agg(['sum', 'mean', 'min', 'max', 'count', 'std'])\n",
    "print(aggregated)"
   ]
  },
  {
   "cell_type": "markdown",
   "id": "8e08bbb3",
   "metadata": {},
   "source": [
    "## 🚀 Next Steps\n",
    "* Learn this file **6_PivotTables.ipynb**"
   ]
  }
 ],
 "metadata": {
  "kernelspec": {
   "display_name": "Python 3",
   "language": "python",
   "name": "python3"
  },
  "language_info": {
   "codemirror_mode": {
    "name": "ipython",
    "version": 3
   },
   "file_extension": ".py",
   "mimetype": "text/x-python",
   "name": "python",
   "nbconvert_exporter": "python",
   "pygments_lexer": "ipython3",
   "version": "3.13.1"
  }
 },
 "nbformat": 4,
 "nbformat_minor": 5
}
