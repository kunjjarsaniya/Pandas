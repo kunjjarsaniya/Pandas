{
 "cells": [
  {
   "cell_type": "markdown",
   "metadata": {},
   "source": [
    "# 🐼 Pandas Tutorial: Feature Extraction\n",
    "\n",
    "This notebook demonstrates how to extract meaningful features from the anime dataset to perform insightful analysis.\n"
   ]
  },
  {
   "cell_type": "markdown",
   "metadata": {},
   "source": [
    "### Loading the Data\n",
    "\n",
    "We start by importing necessary libraries and loading the dataset:\n"
   ]
  },
  {
   "cell_type": "code",
   "execution_count": null,
   "metadata": {},
   "outputs": [],
   "source": [
    "import numpy as np\n",
    "import pandas as pd\n",
    "df = pd.read_csv(r'anime.csv')\n",
    "df.head()"
   ]
  },
  {
   "cell_type": "markdown",
   "metadata": {},
   "source": [
    "### Extracting Episode Counts\n",
    "\n",
    "We extract the number of episodes from the \"Title\" column using a custom function:\n"
   ]
  },
  {
   "cell_type": "code",
   "execution_count": null,
   "metadata": {},
   "outputs": [],
   "source": [
    "def extract_episodes(txt):\n",
    "    check = False\n",
    "    data = \"\"\n",
    "    for i in txt:\n",
    "        if i == \")\":\n",
    "            check = False\n",
    "            return data\n",
    "        if check == True:\n",
    "            data = data + i\n",
    "        if i == '(': \n",
    "            check = True\n",
    "\n",
    "df[\"Episodes\"] = df[\"Title\"].apply(extract_episodes)\n",
    "df['Episodes'] = df['Episodes'].str.replace(\" eps\", \"\")\n",
    "df['Episodes'] = df['Episodes'].astype(int)\n",
    "df"
   ]
  },
  {
   "cell_type": "markdown",
   "metadata": {},
   "source": [
    "### Extracting Total Time\n",
    "\n",
    "Similarly, we extract the total time period from the \"Title\" column:\n"
   ]
  },
  {
   "cell_type": "code",
   "execution_count": null,
   "metadata": {},
   "outputs": [],
   "source": [
    "def extraction_time(txt):\n",
    "    check = False\n",
    "    data = \"\"\n",
    "    for i in range(len(txt)):\n",
    "        if txt[i] == ')':\n",
    "            for j in range(i+1, i+20):\n",
    "                data += txt[j]\n",
    "            return data\n",
    "\n",
    "df['Total Time'] = df['Title'].apply(extraction_time)\n",
    "df.head()"
   ]
  },
  {
   "cell_type": "markdown",
   "metadata": {},
   "source": [
    "### Calculating Duration in Months\n",
    "\n",
    "Using the extracted time period, we calculate the total duration in months:\n"
   ]
  },
  {
   "cell_type": "code",
   "execution_count": null,
   "metadata": {},
   "outputs": [],
   "source": [
    "from dateutil.relativedelta import relativedelta\n",
    "from datetime import datetime\n",
    "\n",
    "def calculate_total_months(period):\n",
    "    try:\n",
    "        start_str, end_str = period.split(' - ')\n",
    "        start_date = datetime.strptime(start_str, '%b %Y')\n",
    "        end_date = datetime.strptime(end_str, '%b %Y')\n",
    "        r = relativedelta(end_date, start_date)\n",
    "        return r.years * 12 + r.months + 1  # +1 to include the starting month\n",
    "    except:\n",
    "        return None\n",
    "\n",
    "df['Months'] = df['Total Time'].apply(calculate_total_months)\n",
    "df"
   ]
  },
  {
   "cell_type": "markdown",
   "metadata": {},
   "source": [
    "### Analysis Examples\n",
    "\n",
    "- Anime with the highest score:\n",
    "```python\n",
    "df[df['Score'] == df['Score'].max()]['Title']\n",
    "```\n",
    "- Top 5 highest scoring anime:\n",
    "```python\n",
    "df['Title'].head()\n",
    "```\n",
    "- Anime with the highest episode count:\n",
    "```python\n",
    "df[df['Episodes'] == df['Episodes'].max()]\n",
    "```\n",
    "- Animes with top 5 episode counts:\n",
    "```python\n",
    "df.nlargest(5, 'Episodes')[['Title', 'Episodes']]\n",
    "```\n",
    "- Longest running anime (top 5 by months):\n",
    "```python\n",
    "df.nlargest(5, 'Months')[['Title', 'Months']]\n",
    "```\n"
   ]
  },
  {
   "cell_type": "markdown",
   "metadata": {},
   "source": [
    "---\n",
    "## 🚀 Next Steps\n",
    "Create one more project.\n",
    "* Learn this file **9_Countries.ipynb**"
   ]
  }
 ],
 "metadata": {
  "kernelspec": {
   "display_name": "base",
   "language": "python",
   "name": "python3"
  },
  "language_info": {
   "codemirror_mode": {
    "name": "ipython",
    "version": 3
   },
   "file_extension": ".py",
   "mimetype": "text/x-python",
   "name": "python",
   "nbconvert_exporter": "python",
   "pygments_lexer": "ipython3",
   "version": "3.12.7"
  }
 },
 "nbformat": 4,
 "nbformat_minor": 4
}
