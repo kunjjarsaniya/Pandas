{
 "cells": [
  {
   "cell_type": "markdown",
   "id": "3552d15e",
   "metadata": {},
   "source": [
    "\n",
    "# 🌍 Exploring Countries Data with Pandas\n",
    "\n",
    "This notebook is designed as a **beginner-friendly tutorial** for learning the basics of **Pandas**, using a dataset of countries.\n",
    "\n",
    "You will learn how to:\n",
    "\n",
    "- Load data into a DataFrame\n",
    "- Inspect and clean the data\n",
    "- Perform basic analysis\n",
    "- Work with columns and filtering\n",
    "- Visualize some statistics (optional)\n",
    "\n",
    "---\n",
    "\n",
    "**Let's get started! 🚀**\n"
   ]
  },
  {
   "cell_type": "code",
   "execution_count": null,
   "id": "29b92d38-22bb-4e53-82ca-ecb215fa966c",
   "metadata": {},
   "outputs": [],
   "source": [
    "import numpy as np \n",
    "import pandas as pd"
   ]
  },
  {
   "cell_type": "code",
   "execution_count": null,
   "id": "7babdcb5-12be-4fde-8fe3-c1c57d3b8de0",
   "metadata": {},
   "outputs": [],
   "source": [
    "# Load the CSV data into a DataFrame\n",
    "df = pd.read_csv(\"Countries.csv\")"
   ]
  },
  {
   "cell_type": "code",
   "execution_count": null,
   "id": "0330d7f8-8984-4baa-a883-9375c54288de",
   "metadata": {},
   "outputs": [],
   "source": [
    "df"
   ]
  },
  {
   "cell_type": "code",
   "execution_count": null,
   "id": "40f531c2-a83d-4206-a222-8235e7696bb7",
   "metadata": {},
   "outputs": [],
   "source": [
    "df.shape"
   ]
  },
  {
   "cell_type": "code",
   "execution_count": null,
   "id": "9cb73cd0-6855-4dbe-b50b-1d94142d8bf4",
   "metadata": {
    "scrolled": true
   },
   "outputs": [],
   "source": [
    "# Get a concise summary of the DataFrame\n",
    "df.info()"
   ]
  },
  {
   "cell_type": "code",
   "execution_count": null,
   "id": "c020d383-f7e3-4c30-92d3-cea1d92a18c7",
   "metadata": {},
   "outputs": [],
   "source": [
    "# View summary statistics for numeric columns\n",
    "df.describe()"
   ]
  },
  {
   "cell_type": "code",
   "execution_count": null,
   "id": "cef874e2-ae96-477b-bf67-7ec304f5c2f9",
   "metadata": {},
   "outputs": [],
   "source": [
    "#which country has the highest population\n",
    "df[df['population'] == df['population'].max()]['country']"
   ]
  },
  {
   "cell_type": "code",
   "execution_count": null,
   "id": "ab241b1c-af1d-4c91-b811-b9ddfd9362c7",
   "metadata": {},
   "outputs": [],
   "source": [
    "df.columns"
   ]
  },
  {
   "cell_type": "code",
   "execution_count": null,
   "id": "b1dab6ee-ad0e-4ef1-9c16-9d485187ebd2",
   "metadata": {},
   "outputs": [],
   "source": [
    "#what is the capital of the country with highest population\n",
    "df[df['population'] == df['population'].max()]['capital_city']"
   ]
  },
  {
   "cell_type": "code",
   "execution_count": null,
   "id": "1c7bbd7d-123b-4238-818e-e357fcbeb7ce",
   "metadata": {},
   "outputs": [],
   "source": [
    "#which country has the least population\n",
    "df[df['population'] == df['population'].min()]['country']"
   ]
  },
  {
   "cell_type": "code",
   "execution_count": null,
   "id": "77faeb3d-7007-44d8-a930-e24b0a8dca46",
   "metadata": {},
   "outputs": [],
   "source": [
    "#what is the capital of the country with least population\n",
    "df[df['population'] == df['population'].min()]['capital_city']"
   ]
  },
  {
   "cell_type": "code",
   "execution_count": null,
   "id": "5e8b3127-593f-465d-872e-e43f7f16a02c",
   "metadata": {
    "scrolled": true
   },
   "outputs": [],
   "source": [
    "# Display the first 5 rows of the DataFrame\n",
    "df.head()"
   ]
  },
  {
   "cell_type": "code",
   "execution_count": null,
   "id": "70bda07e-2482-4fa5-a044-f18dd4335299",
   "metadata": {},
   "outputs": [],
   "source": [
    "#give me top 5 countries with highest democratic score\n",
    "df.sort_values(by = 'democracy_score',ascending=False,inplace = True)"
   ]
  },
  {
   "cell_type": "code",
   "execution_count": null,
   "id": "27d790f9-f327-4fb8-909d-ef532cb57edd",
   "metadata": {},
   "outputs": [],
   "source": [
    "# Display the first 5 rows of the DataFrame\n",
    "df['country'].head()"
   ]
  },
  {
   "cell_type": "code",
   "execution_count": null,
   "id": "da6f6892-1d24-421e-9c45-240493d9d538",
   "metadata": {},
   "outputs": [],
   "source": [
    "#how many total regions are there\n",
    "df['region'].value_counts().count()"
   ]
  },
  {
   "cell_type": "code",
   "execution_count": null,
   "id": "f4310910-2c44-4aad-bd19-9e6357700803",
   "metadata": {},
   "outputs": [],
   "source": [
    "#how many countries lie in Eastern Europe region\n",
    "df[df['region'] == \"Eastern Europe\"][ 'country']"
   ]
  },
  {
   "cell_type": "code",
   "execution_count": null,
   "id": "ff209e74-fe61-4424-a9a7-98be725d2330",
   "metadata": {},
   "outputs": [],
   "source": [
    "#who is the political leader of the 2nd highest populated country\n",
    "df[df['population'] == df['population'].nlargest(2).iloc[1]]['political_leader']"
   ]
  },
  {
   "cell_type": "code",
   "execution_count": null,
   "id": "de22b145-8ebe-442a-bb03-8207650caaf5",
   "metadata": {},
   "outputs": [],
   "source": [
    "# how many countries are there whoes political leaders are unknown\n",
    "df[df['political_leader'].isna()]['country'].count()"
   ]
  },
  {
   "cell_type": "code",
   "execution_count": null,
   "id": "4a133e65-a716-4b3a-af73-dea96d8aab04",
   "metadata": {},
   "outputs": [],
   "source": [
    "#how many country have Republic in their full name\n",
    "count = 0\n",
    "def counting(txt):\n",
    "    global count \n",
    "    if 'republic' in txt.lower():\n",
    "        count+= 1\n",
    "    return txt\n",
    "df['country_long'] = df['country_long'].apply(counting)\n",
    "print(count)"
   ]
  },
  {
   "cell_type": "code",
   "execution_count": null,
   "id": "05901ff2-06e4-4b05-9d9b-a2b52ed913bb",
   "metadata": {},
   "outputs": [],
   "source": [
    "#which country in african region has highest population\n",
    "africa_df = df[df['continent'] == 'Africa']"
   ]
  },
  {
   "cell_type": "code",
   "execution_count": null,
   "id": "9dd936b5-7062-4c72-80c4-52ee270609c9",
   "metadata": {},
   "outputs": [],
   "source": [
    "africa_df[africa_df['population'] == africa_df['population'].max()]['country']"
   ]
  },
  {
   "cell_type": "markdown",
   "id": "f849f58c",
   "metadata": {},
   "source": [
    "\n",
    "---\n",
    "\n",
    "## ✅ Exercises for You\n",
    "\n",
    "To reinforce your learning, try answering the following:\n",
    "\n",
    "1. Which countries have the highest population?\n",
    "2. How many unique regions are there?\n",
    "3. Filter countries with an area greater than 1,000,000 square km.\n",
    "4. Add a new column calculating population density."
   ]
  }
 ],
 "metadata": {
  "kernelspec": {
   "display_name": "Python 3",
   "language": "python",
   "name": "python3"
  },
  "language_info": {
   "codemirror_mode": {
    "name": "ipython",
    "version": 3
   },
   "file_extension": ".py",
   "mimetype": "text/x-python",
   "name": "python",
   "nbconvert_exporter": "python",
   "pygments_lexer": "ipython3",
   "version": "3.13.1"
  }
 },
 "nbformat": 4,
 "nbformat_minor": 5
}
